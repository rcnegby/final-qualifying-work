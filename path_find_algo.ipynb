{
 "cells": [
  {
   "cell_type": "code",
   "execution_count": 1,
   "id": "5fff80e7",
   "metadata": {},
   "outputs": [],
   "source": [
    "import re\n",
    "import pandas as pd\n",
    "import numpy as np\n",
    "from rdkit import Chem\n",
    "from rdkit.Chem.Fingerprints.FingerprintMols import FingerprintMol\n",
    "from rdkit.DataStructs import FingerprintSimilarity\n",
    "from rdkit import RDLogger\n",
    "from rdkit.Chem import AllChem\n",
    "import pickle\n",
    "import random\n",
    "import itertools\n",
    "from tqdm.auto import tqdm\n",
    "import sys\n",
    "\n",
    "RDLogger.DisableLog('rdApp.*')"
   ]
  },
  {
   "cell_type": "markdown",
   "id": "66f908e0",
   "metadata": {},
   "source": [
    "Задаем параметры"
   ]
  },
  {
   "cell_type": "code",
   "execution_count": 2,
   "id": "4c5a085d",
   "metadata": {},
   "outputs": [],
   "source": [
    "find = 'MNXM1103458' # синтезируемый метаболит\n",
    "max_iter = 100 # максимальное число посещений вершин - метаболитов\n",
    "# параметры для алгоритма близости с частичным перебором\n",
    "K = 3 \n",
    "L = 3\n",
    "# параметр для полного перебора\n",
    "M = 4\n",
    "test = ['MNXM147721', 'MNXM1586', 'MNXM167794', 'MNXM19114', 'MNXM1140', 'MNXM819862', \n",
    "        'MNXM167202', 'MNXM78797', 'MNXM9384', 'MNXM512016'] # метаболиты для сравнения алгоритмов"
   ]
  },
  {
   "cell_type": "markdown",
   "id": "5f39cdd0",
   "metadata": {},
   "source": [
    "Читаем базу данных метаболитов MetaNetX"
   ]
  },
  {
   "cell_type": "code",
   "execution_count": 3,
   "id": "89026a36",
   "metadata": {},
   "outputs": [],
   "source": [
    "library = {}\n",
    "fd = open('chem_prop.tsv')\n",
    "while True:\n",
    "    line = fd.readline()\n",
    "    if line:\n",
    "        if line[0] != '#':\n",
    "            data = line.split('\\t')\n",
    "            if data[0] not in library:\n",
    "                library[ data[0] ] = data[1:]\n",
    "            else:\n",
    "                print( f'{data[0]} - already recorded' )\n",
    "    else:\n",
    "        break\n",
    "fd.close()"
   ]
  },
  {
   "cell_type": "markdown",
   "id": "cfad5ae6",
   "metadata": {},
   "source": [
    "В следующих ячейке происходит формирование графа метаболической сети, его мы сформировали и сохранили зарнее в файл G.pickle, это связано с большим временем формирования графа."
   ]
  },
  {
   "cell_type": "code",
   "execution_count": 4,
   "id": "f4f693e2",
   "metadata": {},
   "outputs": [],
   "source": [
    "def meta_graph(read=True):\n",
    "    '''\n",
    "    если read==True, то мы читаем заранее сохраненный граф метаболической сети из файла 'G.pickle'\n",
    "    в противном случае мы формируем его непосредственно (этот граф не будет ничем отличаться от графа при read==True)\n",
    "    '''\n",
    "    G = {}\n",
    "    if read:\n",
    "        with open('G.pickle', 'rb') as handle:\n",
    "            G = pickle.load(handle)\n",
    "    else:\n",
    "        fd = open('reac_prop.tsv')\n",
    "        while True:\n",
    "            line = fd.readline()\n",
    "            if line:\n",
    "                if line[0] != '#' and line.startswith('MNXR'):\n",
    "                    data = line.split('\\t')\n",
    "                    left, right = data[1].split('=')\n",
    "                    reac_l = data[0] + '_l'\n",
    "                    reac_r = data[0] + '_r'\n",
    "                    left = [el[:-1] for el in re.findall(r'MNXM\\d+@|WATER@', left)]\n",
    "                    right = [el[:-1] for el in re.findall(r'MNXM\\d+@|WATER@', right)]\n",
    "                    if len(left) == 1 and len(right) == 1:\n",
    "                        if left[0] == right[0]:\n",
    "                            continue\n",
    "                    f = 1\n",
    "                    for m_r in right:\n",
    "                        if library[m_r][-1] == '\\n':\n",
    "                            f = -1\n",
    "\n",
    "                    for m_l in left:\n",
    "                        if library[m_l][-1] == '\\n':\n",
    "                            f = -1\n",
    "                    for m_l in left:\n",
    "                        try:\n",
    "                            cs = Chem.CanonSmiles(library[m_l][-1].strip())\n",
    "                        except:\n",
    "                            f = -1\n",
    "\n",
    "                    for m_r in right:\n",
    "                        try:\n",
    "                            cs = Chem.CanonSmiles(library[m_r][-1].strip())\n",
    "                        except:\n",
    "                            f = -1\n",
    "\n",
    "                    if f == -1:\n",
    "                        continue\n",
    "\n",
    "                    for m_l in left:\n",
    "                        if not(m_l in left and m_l in right):\n",
    "                            if m_l not in G.keys():\n",
    "                                G[m_l] = {'type': 'met', 'v': [reac_l]}\n",
    "                            else:\n",
    "                                G[m_l]['v'].append(reac_l)\n",
    "\n",
    "                    for m_r in right:\n",
    "                        if not(m_r in left and m_r in right):\n",
    "                            if m_r not in G.keys():\n",
    "                                G[m_r] = {'type': 'met', 'v': [reac_r]}\n",
    "                            else:\n",
    "                                G[m_r]['v'].append(reac_r)\n",
    "                    l_v = [el for el in left if el in G.keys()]\n",
    "                    r_v = [el for el in right if el in G.keys()]\n",
    "                    if r_v != []:\n",
    "                        G[reac_l] = {'type': 'reac', 'v': r_v}\n",
    "\n",
    "                    if l_v != []:\n",
    "                        G[reac_r] = {'type': 'reac', 'v': l_v}\n",
    "            else:\n",
    "                break\n",
    "        fd.close()\n",
    "    return G"
   ]
  },
  {
   "cell_type": "code",
   "execution_count": 5,
   "id": "2485d239",
   "metadata": {},
   "outputs": [],
   "source": [
    "G = meta_graph()"
   ]
  },
  {
   "cell_type": "code",
   "execution_count": 6,
   "id": "05048227",
   "metadata": {},
   "outputs": [],
   "source": [
    "# чтение и предобработка штамма\n",
    "stam_df = pd.read_csv('EcoNSmilesGLCconnected.csv', sep=';', names=['name', 'smiles', 'id'], header=None)\n",
    "stam_ids = set(stam_df['id'].unique())\n",
    "stam_ids.pop()\n",
    "stam_smiles = set(stam_df['smiles'].unique())\n",
    "stam_smiles.pop()\n",
    "stam = []\n",
    "for el in G.keys():\n",
    "    if G[el]['type'] == 'met' and (el in stam_ids or library[el][-1].strip() in stam_smiles):\n",
    "        stam.append(el)\n",
    "stam = set(stam)"
   ]
  },
  {
   "cell_type": "code",
   "execution_count": 7,
   "id": "78d56119",
   "metadata": {},
   "outputs": [],
   "source": [
    "def dist(sm1, sm2):\n",
    "    '''\n",
    "    этой функции подается на вход две строки - SMILES метаболитов,\n",
    "    она возвращает близость от 0 до 1 между метаболитами на основе алгоритма fingerprints и коэф. Танимото\n",
    "    '''\n",
    "    \n",
    "    return FingerprintSimilarity(FingerprintMol(Chem.MolFromSmiles(sm1)), FingerprintMol(Chem.MolFromSmiles(sm2)))"
   ]
  },
  {
   "cell_type": "code",
   "execution_count": 8,
   "id": "73ce109f",
   "metadata": {},
   "outputs": [],
   "source": [
    "def process(met):\n",
    "    '''\n",
    "    функция на вход получает метаболит,\n",
    "    а возвращает реакцию с максимальным средним расстоянием до штамма\n",
    "    '''\n",
    "    \n",
    "    mean = []\n",
    "    for reac in G[met]['v']:\n",
    "        s = 0\n",
    "        k = 0\n",
    "        for chld in G[reac]['v']:\n",
    "            s += G[chld]['max_dist'][0]\n",
    "            k += 1\n",
    "        mean.append((s/k, reac))\n",
    "    mean.sort(key=lambda x: x[0], reverse=True)\n",
    "    return mean[0]"
   ]
  },
  {
   "cell_type": "code",
   "execution_count": 9,
   "id": "46154972",
   "metadata": {},
   "outputs": [],
   "source": [
    "def find_path(met):\n",
    "    '''\n",
    "    функция принимает на вход метаболит met и рекурсивно строит метаболическое дерево, пока оно\n",
    "    не станет решением задачи поиска метаболического пути или число посещенных вершин-метаболитов не\n",
    "    превзойдет max_iter\n",
    "    \n",
    "    если flag == True, то значит решение найдено и в result будет лежать дерево в виде словаря вершин,\n",
    "    где у каждой вершины будет поле родитель. При этом если по словарю result построить дерево, то не все его\n",
    "    листья будут с пометкой leaf==True(это значит, что листовой метаболит в штамме), т.к. если мы уже встречали\n",
    "    какой-то метаболит в графе, то при повторной встрече этого метаболита мы не будем дублировать для него\n",
    "    рекурсивный обход графа.\n",
    "    \n",
    "    поэтому для успешной работы функции нужны глобальные переменные:\n",
    "    result = {}\n",
    "    n_iter = 0\n",
    "    flag = True\n",
    "    used = []\n",
    "    '''\n",
    "    \n",
    "    global n_iter\n",
    "    global flag\n",
    "    if n_iter > max_iter:\n",
    "        flag = False\n",
    "        return -1\n",
    "    n_iter += 1\n",
    "    reac = process(met)[1]\n",
    "    result[reac] =  {'parent': met, 'chld': G[reac]['v'], 'type': 'reac'} \n",
    "    if reac in used:\n",
    "        return 1\n",
    "    used.append(reac)\n",
    "    \n",
    "    for chld in G[reac]['v']:\n",
    "        if chld in used:\n",
    "            continue\n",
    "        used.append(chld)\n",
    "        if chld in stam:\n",
    "            result[chld] = {'parent': reac, 'type': 'met', 'leaf': True}\n",
    "        else:\n",
    "            result[chld] =  {'parent': reac, 'type': 'met', 'leaf': False}\n",
    "            find_path(chld)"
   ]
  },
  {
   "cell_type": "code",
   "execution_count": 10,
   "id": "4752d514",
   "metadata": {},
   "outputs": [],
   "source": [
    "def init_path_l(met, l):\n",
    "    '''\n",
    "    рекурсивная функция для перебора, которая заполняет массив max_l\n",
    "    максимальным числом реакций для метаболитов на расстоянии l от синтезируемого метаболита\n",
    "    '''\n",
    "    \n",
    "    if l > M:\n",
    "        return -1\n",
    "    max_l[l].append(len(G[met]['v']))\n",
    "    for reac in G[met]['v']:\n",
    "        if reac in used:\n",
    "            continue\n",
    "        used.append(reac)\n",
    "        for chld in G[reac]['v']:\n",
    "            if chld in used:\n",
    "                continue\n",
    "            used.append(chld)\n",
    "            init_path_l(chld, l + 1)"
   ]
  },
  {
   "cell_type": "code",
   "execution_count": 11,
   "id": "e13a8dba",
   "metadata": {},
   "outputs": [],
   "source": [
    "def process_perm(met, l, perm):\n",
    "    '''\n",
    "    функция на вход получает метаболит met и возвращает реакцию в порядке перебора,\n",
    "    определямым вектором perm и индексом l (если l >= M), в противном случае возвращает случайную реакцию\n",
    "    '''\n",
    "    \n",
    "    if l >= M:\n",
    "        return G[met]['v'][random.randint(0, len(G[met]['v']) - 1)]\n",
    "    return G[met]['v'][min(perm[l], len(G[met]['v']) - 1)] "
   ]
  },
  {
   "cell_type": "code",
   "execution_count": 12,
   "id": "9c667b27",
   "metadata": {},
   "outputs": [],
   "source": [
    "def find_path_perm(met, l, perm):\n",
    "    '''\n",
    "    эта функция аналогична функции find_path_perm с тем отличием, что ей нужны\n",
    "    массив perm(определяет порядок обхода) и индекс l (текущая глубина обхода)\n",
    "    и у нее используется функция выбора реакции process_perm\n",
    "    '''\n",
    "    \n",
    "    global n_iter\n",
    "    global flag\n",
    "    if n_iter > max_iter:\n",
    "        flag = False\n",
    "        return -1\n",
    "    n_iter += 1\n",
    "\n",
    "    reac = process_perm(met, l, perm)\n",
    "    if reac in used:\n",
    "        return 1\n",
    "    used.append(reac)\n",
    "    result[reac] =  {'parent': met, 'chld': G[reac]['v'], 'type': 'reac'} \n",
    "    for chld in G[reac]['v']:\n",
    "        if chld in used:\n",
    "            continue\n",
    "        used.append(chld)\n",
    "        if chld in stam:\n",
    "            result[chld] = {'parent': reac, 'type': 'met', 'leaf': True}\n",
    "        else:\n",
    "            result[chld] =  {'parent': reac, 'type': 'met', 'leaf': False}\n",
    "            find_path_perm(chld, l + 1, perm)"
   ]
  },
  {
   "cell_type": "code",
   "execution_count": 13,
   "id": "89e37cea",
   "metadata": {},
   "outputs": [],
   "source": [
    "def processN(met, l, perm):\n",
    "    '''\n",
    "    функция на вход получает метаболит met и возвращает в порядке перебора(определяемым индексом l и вектором perm)\n",
    "    одну из первых L реакций с максимальной средней близостью до метаболита (если l < K)\n",
    "    в противном случае возвращает реакцию с максимальной средней близостью\n",
    "    '''\n",
    "    \n",
    "    mean = []\n",
    "    for reac in G[met]['v']:\n",
    "        s = 0\n",
    "        k = 0\n",
    "        for chld in G[reac]['v']:\n",
    "            s += G[chld]['max_dist'][0]\n",
    "            k += 1\n",
    "        mean.append((s/k, reac))\n",
    "    mean.sort(key=lambda x: x[0], reverse=True)\n",
    "    if l >= K:\n",
    "        return mean[0]\n",
    "    return mean[min(perm[l], len(mean) - 1)]"
   ]
  },
  {
   "cell_type": "code",
   "execution_count": 14,
   "id": "2b93a266",
   "metadata": {},
   "outputs": [],
   "source": [
    "def find_pathN(met, l, perm):\n",
    "    '''\n",
    "    эта функция аналогична функции find_path_perm с тем отличием, что ей нужны\n",
    "    массив perm(определяет порядок обхода) и индекс l (текущая глубина обхода)\n",
    "    и у нее используется функция выбора реакции processN\n",
    "    '''\n",
    "    \n",
    "    global n_iter\n",
    "    global flag\n",
    "    if n_iter > max_iter:\n",
    "        flag = False\n",
    "        return -1\n",
    "    n_iter += 1\n",
    "\n",
    "    reac = processN(met, l, perm)[1]\n",
    "    if reac in used:\n",
    "        return 1\n",
    "    used.append(reac)\n",
    "    result[reac] =  {'parent': met, 'chld': G[reac]['v'], 'type': 'reac'} \n",
    "    for chld in G[reac]['v']:\n",
    "        if chld in used:\n",
    "            continue\n",
    "        used.append(chld)\n",
    "        if chld in stam:\n",
    "            result[chld] = {'parent': reac, 'type': 'met', 'leaf': True}\n",
    "        else:\n",
    "            result[chld] =  {'parent': reac, 'type': 'met', 'leaf': False}\n",
    "            find_pathN(chld, l + 1, perm)"
   ]
  },
  {
   "cell_type": "code",
   "execution_count": 15,
   "id": "a0cf189a",
   "metadata": {},
   "outputs": [
    {
     "data": {
      "text/plain": [
       "{'MNXR190736_l': {'parent': 'MNXM1103458',\n",
       "  'chld': ['MNXM728294', 'MNXM9'],\n",
       "  'type': 'reac'},\n",
       " 'MNXM728294': {'parent': 'MNXR190736_l', 'type': 'met', 'leaf': False},\n",
       " 'MNXR102345_l': {'parent': 'MNXM728294',\n",
       "  'chld': ['MNXM144', 'MNXM3', 'MNXM593'],\n",
       "  'type': 'reac'},\n",
       " 'MNXM144': {'parent': 'MNXR102345_l', 'type': 'met', 'leaf': True},\n",
       " 'MNXM3': {'parent': 'MNXR102345_l', 'type': 'met', 'leaf': True},\n",
       " 'MNXM593': {'parent': 'MNXR102345_l', 'type': 'met', 'leaf': True},\n",
       " 'MNXM9': {'parent': 'MNXR190736_l', 'type': 'met', 'leaf': True}}"
      ]
     },
     "execution_count": 15,
     "metadata": {},
     "output_type": "execute_result"
    }
   ],
   "source": [
    "# запуск алгоритма на основе близости для метаболита find\n",
    "result = {}\n",
    "n_iter = 0\n",
    "flag = True\n",
    "used = []\n",
    "find_path(find)\n",
    "result"
   ]
  },
  {
   "cell_type": "code",
   "execution_count": 16,
   "id": "33c892cb",
   "metadata": {},
   "outputs": [
    {
     "data": {
      "application/vnd.jupyter.widget-view+json": {
       "model_id": "9dd8023498d24168ac049e0bd18f1684",
       "version_major": 2,
       "version_minor": 0
      },
      "text/plain": [
       "0it [00:00, ?it/s]"
      ]
     },
     "metadata": {},
     "output_type": "display_data"
    }
   ],
   "source": [
    "# запуск алгоритма перебора для метаболита find\n",
    "max_l = {i: [] for i in range(M + 1)}\n",
    "used = []\n",
    "init_path_l(find, 0)\n",
    "vec = [] # вектор для перебора всех вариантов обхода графа метаболичской сети на глубине не более M\n",
    "for k in max_l.keys():\n",
    "    vec.append(max(max_l[k]))\n",
    "vec = vec[:-1]\n",
    "for i in range(len(vec)):\n",
    "    vec[i] = list(range(vec[i]))\n",
    "m = 1e9\n",
    "for perm in tqdm(itertools.product(*vec), file=sys.stdout):\n",
    "    result = {}\n",
    "    n_iter = 0\n",
    "    flag = True\n",
    "    used = []\n",
    "    find_path_perm(find, 0, perm)\n",
    "    s = 0\n",
    "    for k in result.keys():\n",
    "        if result[k]['type'] == 'reac':\n",
    "            s += 1\n",
    "    if flag == True and s < m:\n",
    "        m = s"
   ]
  },
  {
   "cell_type": "code",
   "execution_count": 27,
   "id": "e3a9a8d3",
   "metadata": {},
   "outputs": [],
   "source": [
    "vec_dist = [list(range(K)) for i in range(L)] # вектор для перебора в алгоритме на основе близости с частичным перебором"
   ]
  },
  {
   "cell_type": "code",
   "execution_count": 28,
   "id": "211fc5fe",
   "metadata": {},
   "outputs": [
    {
     "data": {
      "application/vnd.jupyter.widget-view+json": {
       "model_id": "96d264a00c3d4d87a1956bfcee8e9c52",
       "version_major": 2,
       "version_minor": 0
      },
      "text/plain": [
       "0it [00:00, ?it/s]"
      ]
     },
     "metadata": {},
     "output_type": "display_data"
    }
   ],
   "source": [
    "# запуск алгоритма на основе близости с частичным перебором для метаболита find\n",
    "m = 1e9\n",
    "res_G = {}\n",
    "for perm in tqdm(itertools.product(*vec_dist), file=sys.stdout):\n",
    "    result = {}\n",
    "    n_iter = 0\n",
    "    flag = True\n",
    "    used = []\n",
    "    find_pathN(find, 0, perm)\n",
    "    s = 0\n",
    "    for k in result.keys():\n",
    "        if result[k]['type'] == 'reac':\n",
    "            s += 1\n",
    "    if flag == True and s < m:\n",
    "        m = s\n",
    "        res_G = result"
   ]
  },
  {
   "cell_type": "code",
   "execution_count": 19,
   "id": "e70e378f",
   "metadata": {},
   "outputs": [
    {
     "name": "stdout",
     "output_type": "stream",
     "text": [
      "CPU times: user 108 ms, sys: 6 µs, total: 108 ms\n",
      "Wall time: 107 ms\n"
     ]
    }
   ],
   "source": [
    "%%time\n",
    "# алгоритм на основе близости для метаболитов из test\n",
    "dist_test = []\n",
    "step = 0\n",
    "for t in test:\n",
    "    result = {}\n",
    "    n_iter = 0\n",
    "    flag = True\n",
    "    used = []\n",
    "    find_path(t)\n",
    "    s = 0\n",
    "    m = 1e9\n",
    "    for k in result.keys():\n",
    "        if result[k]['type'] == 'reac':\n",
    "            s += 1\n",
    "    if flag == True:\n",
    "        m = s\n",
    "    dist_test.append(m)"
   ]
  },
  {
   "cell_type": "code",
   "execution_count": 25,
   "id": "9d7ac358",
   "metadata": {},
   "outputs": [
    {
     "name": "stdout",
     "output_type": "stream",
     "text": [
      "step 1\n"
     ]
    },
    {
     "data": {
      "application/vnd.jupyter.widget-view+json": {
       "model_id": "b0d172587df3488fab059002b3ff1485",
       "version_major": 2,
       "version_minor": 0
      },
      "text/plain": [
       "0it [00:00, ?it/s]"
      ]
     },
     "metadata": {},
     "output_type": "display_data"
    },
    {
     "name": "stdout",
     "output_type": "stream",
     "text": [
      "step 2\n"
     ]
    },
    {
     "data": {
      "application/vnd.jupyter.widget-view+json": {
       "model_id": "6a7bc65a8bf1409cad1f501dc5ed582e",
       "version_major": 2,
       "version_minor": 0
      },
      "text/plain": [
       "0it [00:00, ?it/s]"
      ]
     },
     "metadata": {},
     "output_type": "display_data"
    },
    {
     "name": "stdout",
     "output_type": "stream",
     "text": [
      "step 3\n"
     ]
    },
    {
     "data": {
      "application/vnd.jupyter.widget-view+json": {
       "model_id": "2a434bbf6fc04ad585cc47c5af579ba7",
       "version_major": 2,
       "version_minor": 0
      },
      "text/plain": [
       "0it [00:00, ?it/s]"
      ]
     },
     "metadata": {},
     "output_type": "display_data"
    },
    {
     "name": "stdout",
     "output_type": "stream",
     "text": [
      "step 4\n"
     ]
    },
    {
     "data": {
      "application/vnd.jupyter.widget-view+json": {
       "model_id": "2c17eb01e5cc4b9bb7ebd7c984c9e96f",
       "version_major": 2,
       "version_minor": 0
      },
      "text/plain": [
       "0it [00:00, ?it/s]"
      ]
     },
     "metadata": {},
     "output_type": "display_data"
    },
    {
     "name": "stdout",
     "output_type": "stream",
     "text": [
      "step 5\n"
     ]
    },
    {
     "data": {
      "application/vnd.jupyter.widget-view+json": {
       "model_id": "8cd4d694fde4475e8be4209c65168e92",
       "version_major": 2,
       "version_minor": 0
      },
      "text/plain": [
       "0it [00:00, ?it/s]"
      ]
     },
     "metadata": {},
     "output_type": "display_data"
    },
    {
     "name": "stdout",
     "output_type": "stream",
     "text": [
      "step 6\n"
     ]
    },
    {
     "data": {
      "application/vnd.jupyter.widget-view+json": {
       "model_id": "6c36423acbdc41669c2b191ea7d786f0",
       "version_major": 2,
       "version_minor": 0
      },
      "text/plain": [
       "0it [00:00, ?it/s]"
      ]
     },
     "metadata": {},
     "output_type": "display_data"
    },
    {
     "name": "stdout",
     "output_type": "stream",
     "text": [
      "step 7\n"
     ]
    },
    {
     "data": {
      "application/vnd.jupyter.widget-view+json": {
       "model_id": "f2503a180b834ef4b689b94df5087fc2",
       "version_major": 2,
       "version_minor": 0
      },
      "text/plain": [
       "0it [00:00, ?it/s]"
      ]
     },
     "metadata": {},
     "output_type": "display_data"
    },
    {
     "name": "stdout",
     "output_type": "stream",
     "text": [
      "step 8\n"
     ]
    },
    {
     "data": {
      "application/vnd.jupyter.widget-view+json": {
       "model_id": "5455d2f50d744bfea3e704d213314839",
       "version_major": 2,
       "version_minor": 0
      },
      "text/plain": [
       "0it [00:00, ?it/s]"
      ]
     },
     "metadata": {},
     "output_type": "display_data"
    },
    {
     "name": "stdout",
     "output_type": "stream",
     "text": [
      "step 9\n"
     ]
    },
    {
     "data": {
      "application/vnd.jupyter.widget-view+json": {
       "model_id": "99a939e52e7b447086687b2c955b0d8c",
       "version_major": 2,
       "version_minor": 0
      },
      "text/plain": [
       "0it [00:00, ?it/s]"
      ]
     },
     "metadata": {},
     "output_type": "display_data"
    },
    {
     "name": "stdout",
     "output_type": "stream",
     "text": [
      "step 10\n"
     ]
    },
    {
     "data": {
      "application/vnd.jupyter.widget-view+json": {
       "model_id": "87fc43c2a27b4debbfe8a6e26bd662a4",
       "version_major": 2,
       "version_minor": 0
      },
      "text/plain": [
       "0it [00:00, ?it/s]"
      ]
     },
     "metadata": {},
     "output_type": "display_data"
    },
    {
     "name": "stdout",
     "output_type": "stream",
     "text": [
      "CPU times: user 28min 54s, sys: 1.79 s, total: 28min 56s\n",
      "Wall time: 28min 53s\n"
     ]
    }
   ],
   "source": [
    "%%time\n",
    "# алгоритм на основе перебора для метаболитов из test\n",
    "perm_test = []\n",
    "step = 0\n",
    "for t in test:\n",
    "    step += 1\n",
    "    print('step' , step)\n",
    "    max_l = {i: [] for i in range(M + 1)}\n",
    "    used = []\n",
    "    init_path_l(t, 0)\n",
    "    vec = []\n",
    "    for k in max_l.keys():\n",
    "        vec.append(max(max_l[k]))\n",
    "    vec = vec[:-1]\n",
    "    for i in range(len(vec)):\n",
    "        vec[i] = list(range(vec[i]))\n",
    "    m = 1e9\n",
    "    for perm in tqdm(itertools.product(*vec), file=sys.stdout):\n",
    "        result = {}\n",
    "        n_iter = 0\n",
    "        flag = True\n",
    "        used = []\n",
    "        find_path_perm(t, 0, perm)\n",
    "        s = 0\n",
    "        for k in result.keys():\n",
    "            if result[k]['type'] == 'reac':\n",
    "                s += 1\n",
    "        if flag == True and s < m:\n",
    "            m = s\n",
    "    perm_test.append(m)\n",
    "    "
   ]
  },
  {
   "cell_type": "code",
   "execution_count": 29,
   "id": "e4e0b43c",
   "metadata": {},
   "outputs": [
    {
     "data": {
      "application/vnd.jupyter.widget-view+json": {
       "model_id": "38f850380a704e3bacb23d2484ff91cb",
       "version_major": 2,
       "version_minor": 0
      },
      "text/plain": [
       "0it [00:00, ?it/s]"
      ]
     },
     "metadata": {},
     "output_type": "display_data"
    },
    {
     "data": {
      "application/vnd.jupyter.widget-view+json": {
       "model_id": "ae0a22a566814761a555eaf794df2ad2",
       "version_major": 2,
       "version_minor": 0
      },
      "text/plain": [
       "0it [00:00, ?it/s]"
      ]
     },
     "metadata": {},
     "output_type": "display_data"
    },
    {
     "data": {
      "application/vnd.jupyter.widget-view+json": {
       "model_id": "73a9ff452361405c91c8a06811dd6a22",
       "version_major": 2,
       "version_minor": 0
      },
      "text/plain": [
       "0it [00:00, ?it/s]"
      ]
     },
     "metadata": {},
     "output_type": "display_data"
    },
    {
     "data": {
      "application/vnd.jupyter.widget-view+json": {
       "model_id": "db6d4fa62981435ebbc0b1a42400e2eb",
       "version_major": 2,
       "version_minor": 0
      },
      "text/plain": [
       "0it [00:00, ?it/s]"
      ]
     },
     "metadata": {},
     "output_type": "display_data"
    },
    {
     "data": {
      "application/vnd.jupyter.widget-view+json": {
       "model_id": "8588f924bad845efbadec21f5ba3fd05",
       "version_major": 2,
       "version_minor": 0
      },
      "text/plain": [
       "0it [00:00, ?it/s]"
      ]
     },
     "metadata": {},
     "output_type": "display_data"
    },
    {
     "data": {
      "application/vnd.jupyter.widget-view+json": {
       "model_id": "d2fce6a16f454afb8dc32022bcf36cae",
       "version_major": 2,
       "version_minor": 0
      },
      "text/plain": [
       "0it [00:00, ?it/s]"
      ]
     },
     "metadata": {},
     "output_type": "display_data"
    },
    {
     "data": {
      "application/vnd.jupyter.widget-view+json": {
       "model_id": "ac7c7781f3c5493ebe45ed9148a56446",
       "version_major": 2,
       "version_minor": 0
      },
      "text/plain": [
       "0it [00:00, ?it/s]"
      ]
     },
     "metadata": {},
     "output_type": "display_data"
    },
    {
     "data": {
      "application/vnd.jupyter.widget-view+json": {
       "model_id": "c5e7c224bf8649299c6b96ce39829994",
       "version_major": 2,
       "version_minor": 0
      },
      "text/plain": [
       "0it [00:00, ?it/s]"
      ]
     },
     "metadata": {},
     "output_type": "display_data"
    },
    {
     "data": {
      "application/vnd.jupyter.widget-view+json": {
       "model_id": "c49e60deed2447fa957c28556be73af3",
       "version_major": 2,
       "version_minor": 0
      },
      "text/plain": [
       "0it [00:00, ?it/s]"
      ]
     },
     "metadata": {},
     "output_type": "display_data"
    },
    {
     "data": {
      "application/vnd.jupyter.widget-view+json": {
       "model_id": "78d9657d28094ff2b8ea78b75ca42716",
       "version_major": 2,
       "version_minor": 0
      },
      "text/plain": [
       "0it [00:00, ?it/s]"
      ]
     },
     "metadata": {},
     "output_type": "display_data"
    },
    {
     "name": "stdout",
     "output_type": "stream",
     "text": [
      "CPU times: user 3.37 s, sys: 8.01 ms, total: 3.38 s\n",
      "Wall time: 3.36 s\n"
     ]
    }
   ],
   "source": [
    "%%time\n",
    "# алгоритм на основе близсоти с частичным перебором для метаболитов из test\n",
    "dist_test_w_perm = []\n",
    "for t in test:\n",
    "    m = 1e9\n",
    "    res_G = {}\n",
    "    for perm in tqdm(itertools.product(*vec_dist), file=sys.stdout):\n",
    "        result = {}\n",
    "        n_iter = 0\n",
    "        flag = True\n",
    "        used = []\n",
    "        find_pathN(t, 0, perm)\n",
    "        s = 0\n",
    "        for k in result.keys():\n",
    "            if result[k]['type'] == 'reac':\n",
    "                s += 1\n",
    "        if flag == True and s < m:\n",
    "            m = s\n",
    "            res_G = result\n",
    "    dist_test_w_perm.append(m)"
   ]
  },
  {
   "cell_type": "code",
   "execution_count": 30,
   "id": "af37ee32",
   "metadata": {},
   "outputs": [
    {
     "name": "stdout",
     "output_type": "stream",
     "text": [
      "Среднее число реакций для алгоритма на основе близости 8.30\n",
      "Среднее число реакций для алгоритма на основе перебора 4.00\n",
      "Среднее число реакций для алгоритма на основе близости с частичным перебором 4.50\n"
     ]
    }
   ],
   "source": [
    "print(f'Среднее число реакций для алгоритма на основе близости {np.array(dist_test).mean():.2f}')\n",
    "print(f'Среднее число реакций для алгоритма на основе перебора {np.array(perm_test).mean():.2f}')\n",
    "print(f'Среднее число реакций для алгоритма на основе близости с частичным перебором {np.array(dist_test_w_perm).mean():.2f}')"
   ]
  }
 ],
 "metadata": {
  "kernelspec": {
   "display_name": "Python 3 (ipykernel)",
   "language": "python",
   "name": "python3"
  },
  "language_info": {
   "codemirror_mode": {
    "name": "ipython",
    "version": 3
   },
   "file_extension": ".py",
   "mimetype": "text/x-python",
   "name": "python",
   "nbconvert_exporter": "python",
   "pygments_lexer": "ipython3",
   "version": "3.9.7"
  }
 },
 "nbformat": 4,
 "nbformat_minor": 5
}
